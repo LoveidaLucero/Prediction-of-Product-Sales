{
  "nbformat": 4,
  "nbformat_minor": 0,
  "metadata": {
    "colab": {
      "provenance": [],
      "authorship_tag": "ABX9TyOLFlHLBgCXi1QEfv1A2e/F",
      "include_colab_link": true
    },
    "kernelspec": {
      "name": "python3",
      "display_name": "Python 3"
    },
    "language_info": {
      "name": "python"
    }
  },
  "cells": [
    {
      "cell_type": "markdown",
      "metadata": {
        "id": "view-in-github",
        "colab_type": "text"
      },
      "source": [
        "<a href=\"https://colab.research.google.com/github/LoveidaLucero/Prediction-of-Product-Sales/blob/main/Prediction_of_Product_Sales.ipynb\" target=\"_parent\"><img src=\"https://colab.research.google.com/assets/colab-badge.svg\" alt=\"Open In Colab\"/></a>"
      ]
    },
    {
      "cell_type": "markdown",
      "source": [
        "# Prediction of Sales\n",
        "  - Author: Loveida Lucero"
      ],
      "metadata": {
        "id": "AtWHnac2xbXR"
      }
    },
    {
      "cell_type": "markdown",
      "source": [
        "## Project Overview"
      ],
      "metadata": {
        "id": "zGP7KEzBx2Oi"
      }
    },
    {
      "cell_type": "code",
      "source": [],
      "metadata": {
        "id": "K4dPhUszx8dz"
      },
      "execution_count": null,
      "outputs": []
    },
    {
      "cell_type": "markdown",
      "source": [
        "## Load and Inspect Data"
      ],
      "metadata": {
        "id": "5sCM0IjIx2BU"
      }
    },
    {
      "cell_type": "code",
      "source": [],
      "metadata": {
        "id": "_0BHuFj-yYn3"
      },
      "execution_count": null,
      "outputs": []
    },
    {
      "cell_type": "markdown",
      "source": [
        "## Clean Data"
      ],
      "metadata": {
        "id": "1dWhUjmBx1ez"
      }
    },
    {
      "cell_type": "code",
      "source": [],
      "metadata": {
        "id": "P3ZmqDakyZyl"
      },
      "execution_count": null,
      "outputs": []
    },
    {
      "cell_type": "markdown",
      "source": [
        "## Exploratory Data Analasis"
      ],
      "metadata": {
        "id": "tI2gkXbmx1PT"
      }
    },
    {
      "cell_type": "code",
      "source": [],
      "metadata": {
        "id": "-qnJTLcGyahf"
      },
      "execution_count": null,
      "outputs": []
    },
    {
      "cell_type": "markdown",
      "source": [
        "## Feature Inspection"
      ],
      "metadata": {
        "id": "VV0vSA_8x0_2"
      }
    },
    {
      "cell_type": "code",
      "execution_count": null,
      "metadata": {
        "id": "_JgaDMKSw7e8"
      },
      "outputs": [],
      "source": []
    }
  ]
}
